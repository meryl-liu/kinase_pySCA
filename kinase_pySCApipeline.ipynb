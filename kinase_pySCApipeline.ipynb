{
 "cells": [
  {
   "cell_type": "code",
   "execution_count": 8,
   "id": "de50df4f-c3ef-4544-a2c3-12023929dee8",
   "metadata": {},
   "outputs": [],
   "source": [
    "#import the necessary modules\n",
    "\n",
    "%matplotlib inline\n",
    "from __future__ import division\n",
    "import os\n",
    "import time\n",
    "import matplotlib.pyplot as plt\n",
    "import matplotlib\n",
    "import scipy.cluster.hierarchy as sch\n",
    "import numpy as np\n",
    "import copy\n",
    "import math\n",
    "from pysca import scaTools as sca\n",
    "from scipy.stats import t\n",
    "from scipy.stats import scoreatpercentile \n",
    "from scipy.stats import fisher_exact\n",
    "import pickle as pickle\n",
    "from Bio import SeqIO\n",
    "from Bio import Entrez\n",
    "from Bio import PDB"
   ]
  },
  {
   "cell_type": "code",
   "execution_count": 12,
   "id": "8415d062-c222-4f41-80b3-2ac6d2b775c9",
   "metadata": {},
   "outputs": [],
   "source": [
    "''' create a function that, using a original, annotated but unprocessed multiple sequence alignment as its input, \n",
    "returns all the desired proteins of a certain family or species, the sequence index in the alignment, and the \n",
    "protein name/PDB ID (if it exists?) alignment, selection, and type are strings '''\n",
    "\n",
    "def parseAlignment(alignment, selection, type):\n",
    "    # read in the .fasta or .an file containing the alignment\n",
    "    fasta_file = '../sca/'+ alignment\n",
    "    records = SeqIO.parse(fasta_file, 'fasta')\n",
    "\n",
    "    # define the output path and text name\n",
    "    output_file = '../output/'+alignment+'_'+selection+'_index.txt'\n",
    "    \n",
    "    "
   ]
  },
  {
   "cell_type": "code",
   "execution_count": null,
   "id": "d84fa740-f9bd-4c38-9b7d-7e727dff0909",
   "metadata": {},
   "outputs": [],
   "source": []
  },
  {
   "cell_type": "code",
   "execution_count": null,
   "id": "b1f30a81-4323-4d97-b038-21abb6b15763",
   "metadata": {},
   "outputs": [],
   "source": []
  },
  {
   "cell_type": "code",
   "execution_count": null,
   "id": "224d222e-52f9-4356-aa38-cb465899ef22",
   "metadata": {},
   "outputs": [],
   "source": []
  }
 ],
 "metadata": {
  "kernelspec": {
   "display_name": "Python 3 (ipykernel)",
   "language": "python",
   "name": "python3"
  },
  "language_info": {
   "codemirror_mode": {
    "name": "ipython",
    "version": 3
   },
   "file_extension": ".py",
   "mimetype": "text/x-python",
   "name": "python",
   "nbconvert_exporter": "python",
   "pygments_lexer": "ipython3",
   "version": "3.9.16"
  }
 },
 "nbformat": 4,
 "nbformat_minor": 5
}
